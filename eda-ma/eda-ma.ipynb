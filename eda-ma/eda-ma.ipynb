{
 "cells": [
  {
   "cell_type": "markdown",
   "id": "f8ca0950",
   "metadata": {},
   "source": [
    "### 1. Define a skeleton\n",
    "\n",
    "We’ll use LangGraph (state machine orchestration) so that:\n",
    "- Every stage of the workflow is a node in the graph.\n",
    "- The graph supports interrupts for human approval.\n",
    "- It’s easy to add parallel branches (literature search) later."
   ]
  },
  {
   "cell_type": "code",
   "execution_count": null,
   "id": "b0d8066f",
   "metadata": {},
   "outputs": [],
   "source": []
  },
  {
   "cell_type": "markdown",
   "id": "de2ab2aa",
   "metadata": {},
   "source": [
    "### 2. Minimal state definition\n",
    "\n",
    "Stores a shared state object across modes."
   ]
  },
  {
   "cell_type": "code",
   "execution_count": 1,
   "id": "4a1302b1",
   "metadata": {},
   "outputs": [],
   "source": [
    "from typing import List, Dict, Any\n",
    "from pydantic import BaseModel\n",
    "\n",
    "class EDAState(BaseModel):\n",
    "    dataset_path: str\n",
    "    eda_plan: List[str] = []\n",
    "    eda_results: Dict[str, Any] = {}\n",
    "    eval_report: Dict[str, Any] = {}\n",
    "    reflections: List[str] = []"
   ]
  },
  {
   "cell_type": "markdown",
   "id": "49e9f961",
   "metadata": {},
   "source": [
    "### 3. Router (Intelligent Router)\n",
    "\n",
    "For now it just checks if the uploaded file is tabular (.csv, .xlsx, .parquet) and routes to `EDA_LANE`. Later it will detect task intent and route to \"EDA only\" / \"EDA + literature\" / \"Literature only.\""
   ]
  },
  {
   "cell_type": "code",
   "execution_count": null,
   "id": "568f71a1",
   "metadata": {},
   "outputs": [],
   "source": []
  }
 ],
 "metadata": {
  "kernelspec": {
   "display_name": "env",
   "language": "python",
   "name": "python3"
  },
  "language_info": {
   "codemirror_mode": {
    "name": "ipython",
    "version": 3
   },
   "file_extension": ".py",
   "mimetype": "text/x-python",
   "name": "python",
   "nbconvert_exporter": "python",
   "pygments_lexer": "ipython3",
   "version": "3.10.12"
  }
 },
 "nbformat": 4,
 "nbformat_minor": 5
}
